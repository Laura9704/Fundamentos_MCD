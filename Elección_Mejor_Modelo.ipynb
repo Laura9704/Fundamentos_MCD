{
  "nbformat": 4,
  "nbformat_minor": 0,
  "metadata": {
    "colab": {
      "provenance": [],
      "authorship_tag": "ABX9TyPHijnodrtsO0GOaSgH0kes",
      "include_colab_link": true
    },
    "kernelspec": {
      "name": "python3",
      "display_name": "Python 3"
    },
    "language_info": {
      "name": "python"
    }
  },
  "cells": [
    {
      "cell_type": "markdown",
      "metadata": {
        "id": "view-in-github",
        "colab_type": "text"
      },
      "source": [
        "<a href=\"https://colab.research.google.com/github/Laura9704/Fundamentos_MCD/blob/main/Elecci%C3%B3n_Mejor_Modelo.ipynb\" target=\"_parent\"><img src=\"https://colab.research.google.com/assets/colab-badge.svg\" alt=\"Open In Colab\"/></a>"
      ]
    },
    {
      "cell_type": "code",
      "execution_count": null,
      "metadata": {
        "id": "oiEahbrSmprH"
      },
      "outputs": [],
      "source": [
        "import numpy as np # linear algebra\n",
        "import pandas as pd # data processing, CSV file I/O (e.g. pd.read_csv)\n",
        "import matplotlib.pyplot as plt #gráficos\n",
        "import matplotlib.dates as mdates\n",
        "pd.set_option('display.max_columns', None)\n",
        "\n",
        "from sklearn.metrics import mean_squared_error, mean_absolute_error, r2_score\n",
        "import math\n",
        "from math import sqrt\n",
        "\n",
        "import torch\n",
        "from torch.utils.data import Dataset, DataLoader\n",
        "import torch.nn as nn\n",
        "import torch.optim as optim\n",
        "\n",
        "from sklearn.preprocessing import MinMaxScaler, StandardScaler, Normalizer\n",
        "from tensorflow.keras.models import Sequential\n",
        "from tensorflow.keras.layers import SimpleRNN, Dropout, Dense # Se usa SimpleRNN o la capa RNN que elijas\n",
        "from tensorflow.keras.optimizers import Adam\n",
        "from tensorflow.keras.callbacks import EarlyStopping, ModelCheckpoint\n",
        "\n",
        "# Importa librerías para imputación\n",
        "from scipy.interpolate import interp1d\n",
        "\n",
        "import random\n",
        "import os\n",
        "import warnings\n",
        "warnings.filterwarnings('ignore')"
      ]
    },
    {
      "cell_type": "markdown",
      "source": [
        "# Mejor Modelo MLP"
      ],
      "metadata": {
        "id": "0M4-cap3m-Ck"
      }
    },
    {
      "cell_type": "markdown",
      "source": [
        "# Mejor Modelo redes recurrentes"
      ],
      "metadata": {
        "id": "K5yYjsumnA0b"
      }
    },
    {
      "cell_type": "markdown",
      "source": [
        "## Simple"
      ],
      "metadata": {
        "id": "FVXl8Kf3nNX5"
      }
    },
    {
      "cell_type": "markdown",
      "source": [
        "En este modelo el que mejor representaciones tomo fue el modelo de capas apiladas, con los siguinetes caracteriticas y parametros.  \n",
        "\n",
        "Dentro del modelado se configura un SimpleRNN para el entrenamiento de la siguiente forma\n",
        "\n",
        "    model = Sequential([\n",
        "        SimpleRNN(units,\n",
        "                  activation='relu',\n",
        "                  input_shape=(n_steps, n_features),\n",
        "                  return_sequences=True),\n",
        "        SimpleRNN(units // 2, activation='relu'),\n",
        "\n",
        "        #SimpleRNN(units // 2, activation='relu', return_sequences=True),  # Segunda RNN, también devuelve secuencias\n",
        "\n",
        "        #SimpleRNN(units // 4, activation='relu'),  # Tercera RNN, ahora sí sin return_sequences\n",
        "\n",
        "        Dropout(drop_rate),\n",
        "        Dense(32, activation='relu'),\n",
        "        Dense(1, activation='linear')\n",
        "    ])\n",
        "\n",
        "siendo la arquietctura que mejor predijo en el entrenamiento, con los siguiente hiperparametros\n",
        "\n",
        "\n",
        "    params = {'units': 128,\n",
        "      'lr': 0.005,         \n",
        "      'batch_size': 16,\n",
        "      'epochs': 50,\n",
        "      'drop_rate': 0.2,\n",
        "      'huber_delta': 0.15,\n",
        "      'loss_func': 'huber',\n",
        "      'patience': 10  }\n",
        "\n",
        "el cual al final se adapto para usar el codigo base quedando la SimpleRNN de esta forma\n",
        "\n",
        "    class SimpleRNN_P(nn.Module):\n",
        "      def __init__(self, input_size, hidden_size=128, drop_rate=0.2):\n",
        "        super(SimpleRNN_P, self).__init__()\n",
        "        \n",
        "        # RNN 1: Salida es una secuencia (return_sequences=True implícito por el apilamiento)\n",
        "        self.rnn1 = nn.RNN(input_size, hidden_size, batch_first=True, nonlinearity='relu')\n",
        "        \n",
        "        # RNN 2: Toma la secuencia de rnn1 y consolida (return_sequences=False implícito)\n",
        "        self.rnn2 = nn.RNN(hidden_size, hidden_size // 2, batch_first=True, nonlinearity='relu')\n",
        "        \n",
        "        self.dropout = nn.Dropout(drop_rate)\n",
        "        \n",
        "        self.fc_seq = nn.Sequential(\n",
        "            nn.Linear(hidden_size // 2, 32),\n",
        "            nn.ReLU(),\n",
        "            nn.Linear(32, 1)\n",
        "        )\n",
        "\n",
        "    def forward(self, x):\n",
        "        # x shape: (Batch, Seq_Len, Features)\n",
        "        x_rnn1, _ = self.rnn1(x)  # x_rnn1 shape: (Batch, Seq_Len, Hidden_size)\n",
        "        x_rnn2, _ = self.rnn2(x_rnn1) # x_rnn2 shape: (Batch, Seq_Len, Hidden_size // 2)\n",
        "        \n",
        "        # Tomamos la salida del último paso temporal para la predicción punto-a-punto\n",
        "        x_out = x_rnn2[:, -1, :]\n",
        "        \n",
        "        x_out = self.dropout(x_out)\n",
        "        \n",
        "        # .squeeze(-1) asegura que la salida final sea (Batch_size,)\n",
        "        return self.fc_seq(x_out).squeeze(-1)\n"
      ],
      "metadata": {
        "id": "9S11Tl3MLVhX"
      }
    },
    {
      "cell_type": "markdown",
      "source": [
        "## LTSM"
      ],
      "metadata": {
        "id": "d0wntoHtnSn3"
      }
    },
    {
      "cell_type": "markdown",
      "source": [
        "## GRU"
      ],
      "metadata": {
        "id": "iDS1cboPnXOa"
      }
    },
    {
      "cell_type": "markdown",
      "source": [
        "# Mejor Modelo TCN"
      ],
      "metadata": {
        "id": "CuZIBisDnIIc"
      }
    },
    {
      "cell_type": "markdown",
      "source": [
        "#Eleccion Final"
      ],
      "metadata": {
        "id": "mfV_67xvneeB"
      }
    }
  ]
}
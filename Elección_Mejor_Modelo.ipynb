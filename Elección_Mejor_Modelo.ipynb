{
  "nbformat": 4,
  "nbformat_minor": 0,
  "metadata": {
    "colab": {
      "provenance": [],
      "toc_visible": true,
      "authorship_tag": "ABX9TyPseDqWQCn/l5SV+eGgat2/",
      "include_colab_link": true
    },
    "kernelspec": {
      "name": "python3",
      "display_name": "Python 3"
    },
    "language_info": {
      "name": "python"
    }
  },
  "cells": [
    {
      "cell_type": "markdown",
      "metadata": {
        "id": "view-in-github",
        "colab_type": "text"
      },
      "source": [
        "<a href=\"https://colab.research.google.com/github/Laura9704/Fundamentos_MCD/blob/main/Elecci%C3%B3n_Mejor_Modelo.ipynb\" target=\"_parent\"><img src=\"https://colab.research.google.com/assets/colab-badge.svg\" alt=\"Open In Colab\"/></a>"
      ]
    },
    {
      "cell_type": "code",
      "execution_count": null,
      "metadata": {
        "id": "oiEahbrSmprH"
      },
      "outputs": [],
      "source": [
        "import numpy as np # linear algebra\n",
        "import pandas as pd # data processing, CSV file I/O (e.g. pd.read_csv)\n",
        "import matplotlib.pyplot as plt #gráficos\n",
        "import matplotlib.dates as mdates\n",
        "pd.set_option('display.max_columns', None)\n",
        "\n",
        "from sklearn.metrics import mean_squared_error, mean_absolute_error, r2_score\n",
        "import math\n",
        "from math import sqrt\n",
        "\n",
        "import torch\n",
        "from torch.utils.data import Dataset, DataLoader\n",
        "import torch.nn as nn\n",
        "import torch.optim as optim\n",
        "\n",
        "from sklearn.preprocessing import MinMaxScaler, StandardScaler, Normalizer\n",
        "from tensorflow.keras.models import Sequential\n",
        "from tensorflow.keras.layers import SimpleRNN, Dropout, Dense # Se usa SimpleRNN o la capa RNN que elijas\n",
        "from tensorflow.keras.optimizers import Adam\n",
        "from tensorflow.keras.callbacks import EarlyStopping, ModelCheckpoint\n",
        "\n",
        "# Importa librerías para imputación\n",
        "from scipy.interpolate import interp1d\n",
        "\n",
        "import random\n",
        "import os\n",
        "import warnings\n",
        "warnings.filterwarnings('ignore')"
      ]
    },
    {
      "cell_type": "markdown",
      "source": [
        "# Mejor Modelo MLP"
      ],
      "metadata": {
        "id": "0M4-cap3m-Ck"
      }
    },
    {
      "cell_type": "markdown",
      "source": [
        "# Mejor Modelo RNN"
      ],
      "metadata": {
        "id": "K5yYjsumnA0b"
      }
    },
    {
      "cell_type": "markdown",
      "source": [
        "## Simple"
      ],
      "metadata": {
        "id": "FVXl8Kf3nNX5"
      }
    },
    {
      "cell_type": "markdown",
      "source": [
        "En este modelo el que mejor representaciones tomo fue el modelo de capas apiladas, con los siguinetes caracteriticas y parametros.  \n"
      ],
      "metadata": {
        "id": "9S11Tl3MLVhX"
      }
    },
    {
      "cell_type": "markdown",
      "source": [
        "## LTSM"
      ],
      "metadata": {
        "id": "d0wntoHtnSn3"
      }
    },
    {
      "cell_type": "markdown",
      "source": [
        "## GRU"
      ],
      "metadata": {
        "id": "iDS1cboPnXOa"
      }
    },
    {
      "cell_type": "markdown",
      "source": [
        "# Mejor Modelo TCN"
      ],
      "metadata": {
        "id": "CuZIBisDnIIc"
      }
    },
    {
      "cell_type": "markdown",
      "source": [
        "#Eleccion Final"
      ],
      "metadata": {
        "id": "mfV_67xvneeB"
      }
    }
  ]
}